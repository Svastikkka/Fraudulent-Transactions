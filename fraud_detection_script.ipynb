{
 "cells": [
  {
   "cell_type": "code",
   "execution_count": 1,
   "id": "5a92bb13",
   "metadata": {},
   "outputs": [],
   "source": [
    "# The code above reads the data, preprocesses it, trains a RandomForestClassifier, \n",
    "# and evaluates the model's performance using various metrics. \n",
    "# It also plots the feature importance, helping us identify the most important features for fraud detection."
   ]
  },
  {
   "cell_type": "code",
   "execution_count": 2,
   "id": "21f464ea",
   "metadata": {},
   "outputs": [],
   "source": [
    "import pandas as pd\n",
    "import numpy as np\n",
    "from sklearn.model_selection import train_test_split\n",
    "from sklearn.ensemble import RandomForestClassifier\n",
    "from sklearn.metrics import accuracy_score, precision_score, recall_score, f1_score, roc_auc_score, confusion_matrix\n",
    "import matplotlib.pyplot as plt\n",
    "from scipy import stats\n",
    "from statsmodels.stats.outliers_influence import variance_inflation_factor"
   ]
  },
  {
   "cell_type": "code",
   "execution_count": 3,
   "id": "83b7d174",
   "metadata": {},
   "outputs": [],
   "source": [
    "# Load data from CSV\n",
    "data = pd.read_csv('/Users/manshusharma/Documents/vscode/Fraudulent Transactions/Fraud.csv')\n"
   ]
  },
  {
   "cell_type": "code",
   "execution_count": 4,
   "id": "f13597d3",
   "metadata": {},
   "outputs": [
    {
     "data": {
      "text/plain": [
       "False"
      ]
     },
     "execution_count": 4,
     "metadata": {},
     "output_type": "execute_result"
    }
   ],
   "source": [
    "# Check for null values\n",
    "data.isnull().values.any()"
   ]
  },
  {
   "cell_type": "code",
   "execution_count": 5,
   "id": "ecd5a0cc",
   "metadata": {},
   "outputs": [
    {
     "name": "stdout",
     "output_type": "stream",
     "text": [
      "<class 'pandas.core.frame.DataFrame'>\n",
      "RangeIndex: 6362620 entries, 0 to 6362619\n",
      "Data columns (total 11 columns):\n",
      " #   Column          Dtype  \n",
      "---  ------          -----  \n",
      " 0   step            int64  \n",
      " 1   type            object \n",
      " 2   amount          float64\n",
      " 3   nameOrig        object \n",
      " 4   oldbalanceOrg   float64\n",
      " 5   newbalanceOrig  float64\n",
      " 6   nameDest        object \n",
      " 7   oldbalanceDest  float64\n",
      " 8   newbalanceDest  float64\n",
      " 9   isFraud         int64  \n",
      " 10  isFlaggedFraud  int64  \n",
      "dtypes: float64(5), int64(3), object(3)\n",
      "memory usage: 534.0+ MB\n"
     ]
    }
   ],
   "source": [
    "# Getting information about data\n",
    "data.info()"
   ]
  },
  {
   "cell_type": "code",
   "execution_count": 6,
   "id": "e473fe17",
   "metadata": {},
   "outputs": [],
   "source": [
    "# Data Preprocessing\n",
    "# Drop unnecessary columns\n",
    "data.drop(['nameOrig', 'nameDest'], axis=1, inplace=True)"
   ]
  },
  {
   "cell_type": "code",
   "execution_count": 7,
   "id": "84438f5d",
   "metadata": {},
   "outputs": [],
   "source": [
    "# One-hot encoding for 'type' column\n",
    "data = pd.get_dummies(data, columns=['type'], drop_first=True)"
   ]
  },
  {
   "cell_type": "code",
   "execution_count": 8,
   "id": "3dd92e42",
   "metadata": {},
   "outputs": [],
   "source": [
    "# Feature Engineering\n",
    "data['balance_change'] = data['newbalanceOrig'] - data['oldbalanceOrg']"
   ]
  },
  {
   "cell_type": "code",
   "execution_count": 9,
   "id": "827c376d",
   "metadata": {},
   "outputs": [],
   "source": [
    "# Handling Outliers\n",
    "z_scores = np.abs(stats.zscore(data[['amount', 'oldbalanceOrg', 'newbalanceOrig', 'oldbalanceDest', 'newbalanceDest']]))\n",
    "outlier_threshold = 3\n",
    "data_no_outliers = data[(z_scores < outlier_threshold).all(axis=1)]"
   ]
  },
  {
   "cell_type": "code",
   "execution_count": 15,
   "id": "374c2b55",
   "metadata": {},
   "outputs": [
    {
     "data": {
      "text/html": [
       "<div>\n",
       "<style scoped>\n",
       "    .dataframe tbody tr th:only-of-type {\n",
       "        vertical-align: middle;\n",
       "    }\n",
       "\n",
       "    .dataframe tbody tr th {\n",
       "        vertical-align: top;\n",
       "    }\n",
       "\n",
       "    .dataframe thead th {\n",
       "        text-align: right;\n",
       "    }\n",
       "</style>\n",
       "<table border=\"1\" class=\"dataframe\">\n",
       "  <thead>\n",
       "    <tr style=\"text-align: right;\">\n",
       "      <th></th>\n",
       "      <th>step</th>\n",
       "      <th>amount</th>\n",
       "      <th>oldbalanceOrg</th>\n",
       "      <th>newbalanceOrig</th>\n",
       "      <th>oldbalanceDest</th>\n",
       "      <th>newbalanceDest</th>\n",
       "      <th>isFlaggedFraud</th>\n",
       "      <th>type_CASH_OUT</th>\n",
       "      <th>type_DEBIT</th>\n",
       "      <th>type_PAYMENT</th>\n",
       "      <th>type_TRANSFER</th>\n",
       "      <th>balance_change</th>\n",
       "    </tr>\n",
       "  </thead>\n",
       "  <tbody>\n",
       "    <tr>\n",
       "      <th>0</th>\n",
       "      <td>1</td>\n",
       "      <td>9839.64</td>\n",
       "      <td>170136.00</td>\n",
       "      <td>160296.36</td>\n",
       "      <td>0.00</td>\n",
       "      <td>0.00</td>\n",
       "      <td>0</td>\n",
       "      <td>0</td>\n",
       "      <td>0</td>\n",
       "      <td>1</td>\n",
       "      <td>0</td>\n",
       "      <td>-9839.64</td>\n",
       "    </tr>\n",
       "    <tr>\n",
       "      <th>1</th>\n",
       "      <td>1</td>\n",
       "      <td>1864.28</td>\n",
       "      <td>21249.00</td>\n",
       "      <td>19384.72</td>\n",
       "      <td>0.00</td>\n",
       "      <td>0.00</td>\n",
       "      <td>0</td>\n",
       "      <td>0</td>\n",
       "      <td>0</td>\n",
       "      <td>1</td>\n",
       "      <td>0</td>\n",
       "      <td>-1864.28</td>\n",
       "    </tr>\n",
       "    <tr>\n",
       "      <th>2</th>\n",
       "      <td>1</td>\n",
       "      <td>181.00</td>\n",
       "      <td>181.00</td>\n",
       "      <td>0.00</td>\n",
       "      <td>0.00</td>\n",
       "      <td>0.00</td>\n",
       "      <td>0</td>\n",
       "      <td>0</td>\n",
       "      <td>0</td>\n",
       "      <td>0</td>\n",
       "      <td>1</td>\n",
       "      <td>-181.00</td>\n",
       "    </tr>\n",
       "    <tr>\n",
       "      <th>3</th>\n",
       "      <td>1</td>\n",
       "      <td>181.00</td>\n",
       "      <td>181.00</td>\n",
       "      <td>0.00</td>\n",
       "      <td>21182.00</td>\n",
       "      <td>0.00</td>\n",
       "      <td>0</td>\n",
       "      <td>1</td>\n",
       "      <td>0</td>\n",
       "      <td>0</td>\n",
       "      <td>0</td>\n",
       "      <td>-181.00</td>\n",
       "    </tr>\n",
       "    <tr>\n",
       "      <th>4</th>\n",
       "      <td>1</td>\n",
       "      <td>11668.14</td>\n",
       "      <td>41554.00</td>\n",
       "      <td>29885.86</td>\n",
       "      <td>0.00</td>\n",
       "      <td>0.00</td>\n",
       "      <td>0</td>\n",
       "      <td>0</td>\n",
       "      <td>0</td>\n",
       "      <td>1</td>\n",
       "      <td>0</td>\n",
       "      <td>-11668.14</td>\n",
       "    </tr>\n",
       "    <tr>\n",
       "      <th>...</th>\n",
       "      <td>...</td>\n",
       "      <td>...</td>\n",
       "      <td>...</td>\n",
       "      <td>...</td>\n",
       "      <td>...</td>\n",
       "      <td>...</td>\n",
       "      <td>...</td>\n",
       "      <td>...</td>\n",
       "      <td>...</td>\n",
       "      <td>...</td>\n",
       "      <td>...</td>\n",
       "      <td>...</td>\n",
       "    </tr>\n",
       "    <tr>\n",
       "      <th>6362613</th>\n",
       "      <td>743</td>\n",
       "      <td>1258818.82</td>\n",
       "      <td>1258818.82</td>\n",
       "      <td>0.00</td>\n",
       "      <td>503464.50</td>\n",
       "      <td>1762283.33</td>\n",
       "      <td>0</td>\n",
       "      <td>1</td>\n",
       "      <td>0</td>\n",
       "      <td>0</td>\n",
       "      <td>0</td>\n",
       "      <td>-1258818.82</td>\n",
       "    </tr>\n",
       "    <tr>\n",
       "      <th>6362614</th>\n",
       "      <td>743</td>\n",
       "      <td>339682.13</td>\n",
       "      <td>339682.13</td>\n",
       "      <td>0.00</td>\n",
       "      <td>0.00</td>\n",
       "      <td>0.00</td>\n",
       "      <td>0</td>\n",
       "      <td>0</td>\n",
       "      <td>0</td>\n",
       "      <td>0</td>\n",
       "      <td>1</td>\n",
       "      <td>-339682.13</td>\n",
       "    </tr>\n",
       "    <tr>\n",
       "      <th>6362615</th>\n",
       "      <td>743</td>\n",
       "      <td>339682.13</td>\n",
       "      <td>339682.13</td>\n",
       "      <td>0.00</td>\n",
       "      <td>0.00</td>\n",
       "      <td>339682.13</td>\n",
       "      <td>0</td>\n",
       "      <td>1</td>\n",
       "      <td>0</td>\n",
       "      <td>0</td>\n",
       "      <td>0</td>\n",
       "      <td>-339682.13</td>\n",
       "    </tr>\n",
       "    <tr>\n",
       "      <th>6362618</th>\n",
       "      <td>743</td>\n",
       "      <td>850002.52</td>\n",
       "      <td>850002.52</td>\n",
       "      <td>0.00</td>\n",
       "      <td>0.00</td>\n",
       "      <td>0.00</td>\n",
       "      <td>0</td>\n",
       "      <td>0</td>\n",
       "      <td>0</td>\n",
       "      <td>0</td>\n",
       "      <td>1</td>\n",
       "      <td>-850002.52</td>\n",
       "    </tr>\n",
       "    <tr>\n",
       "      <th>6362619</th>\n",
       "      <td>743</td>\n",
       "      <td>850002.52</td>\n",
       "      <td>850002.52</td>\n",
       "      <td>0.00</td>\n",
       "      <td>6510099.11</td>\n",
       "      <td>7360101.63</td>\n",
       "      <td>0</td>\n",
       "      <td>1</td>\n",
       "      <td>0</td>\n",
       "      <td>0</td>\n",
       "      <td>0</td>\n",
       "      <td>-850002.52</td>\n",
       "    </tr>\n",
       "  </tbody>\n",
       "</table>\n",
       "<p>6090589 rows × 12 columns</p>\n",
       "</div>"
      ],
      "text/plain": [
       "         step      amount  oldbalanceOrg  newbalanceOrig  oldbalanceDest  \\\n",
       "0           1     9839.64      170136.00       160296.36            0.00   \n",
       "1           1     1864.28       21249.00        19384.72            0.00   \n",
       "2           1      181.00         181.00            0.00            0.00   \n",
       "3           1      181.00         181.00            0.00        21182.00   \n",
       "4           1    11668.14       41554.00        29885.86            0.00   \n",
       "...       ...         ...            ...             ...             ...   \n",
       "6362613   743  1258818.82     1258818.82            0.00       503464.50   \n",
       "6362614   743   339682.13      339682.13            0.00            0.00   \n",
       "6362615   743   339682.13      339682.13            0.00            0.00   \n",
       "6362618   743   850002.52      850002.52            0.00            0.00   \n",
       "6362619   743   850002.52      850002.52            0.00      6510099.11   \n",
       "\n",
       "         newbalanceDest  isFlaggedFraud  type_CASH_OUT  type_DEBIT  \\\n",
       "0                  0.00               0              0           0   \n",
       "1                  0.00               0              0           0   \n",
       "2                  0.00               0              0           0   \n",
       "3                  0.00               0              1           0   \n",
       "4                  0.00               0              0           0   \n",
       "...                 ...             ...            ...         ...   \n",
       "6362613      1762283.33               0              1           0   \n",
       "6362614            0.00               0              0           0   \n",
       "6362615       339682.13               0              1           0   \n",
       "6362618            0.00               0              0           0   \n",
       "6362619      7360101.63               0              1           0   \n",
       "\n",
       "         type_PAYMENT  type_TRANSFER  balance_change  \n",
       "0                   1              0        -9839.64  \n",
       "1                   1              0        -1864.28  \n",
       "2                   0              1         -181.00  \n",
       "3                   0              0         -181.00  \n",
       "4                   1              0       -11668.14  \n",
       "...               ...            ...             ...  \n",
       "6362613             0              0     -1258818.82  \n",
       "6362614             0              1      -339682.13  \n",
       "6362615             0              0      -339682.13  \n",
       "6362618             0              1      -850002.52  \n",
       "6362619             0              0      -850002.52  \n",
       "\n",
       "[6090589 rows x 12 columns]"
      ]
     },
     "execution_count": 15,
     "metadata": {},
     "output_type": "execute_result"
    }
   ],
   "source": [
    "import statsmodels.api as sm\n",
    "\n",
    "def calculate_vif(X, thresh=10.0):\n",
    "    vif_data = pd.DataFrame()\n",
    "    vif_data[\"Feature\"] = X.columns\n",
    "    vif_data[\"VIF\"] = [sm.OLS(X.iloc[:, i], X.drop(X.columns[i], axis=1)).fit().rsquared for i in range(X.shape[1])]\n",
    "    cols_to_drop = []\n",
    "    for i in range(X.shape[1]):\n",
    "        vif = vif_data.iloc[i][\"VIF\"]\n",
    "        if vif > thresh:\n",
    "            cols_to_drop.append(vif_data.iloc[i][\"Feature\"])\n",
    "    X.drop(columns=cols_to_drop, inplace=True)\n",
    "    return X\n",
    "\n",
    "# Handling Multi-collinearity (VIF calculation)\n",
    "X = data_no_outliers.drop(['isFraud'], axis=1)\n",
    "X = calculate_vif(X)\n",
    "X"
   ]
  },
  {
   "cell_type": "code",
   "execution_count": 16,
   "id": "79eac3a8",
   "metadata": {},
   "outputs": [
    {
     "data": {
      "text/plain": [
       "0          0\n",
       "1          0\n",
       "2          1\n",
       "3          1\n",
       "4          0\n",
       "          ..\n",
       "6362613    1\n",
       "6362614    1\n",
       "6362615    1\n",
       "6362618    1\n",
       "6362619    1\n",
       "Name: isFraud, Length: 6090589, dtype: int64"
      ]
     },
     "execution_count": 16,
     "metadata": {},
     "output_type": "execute_result"
    }
   ],
   "source": [
    "# Prepare data for model training\n",
    "y = data_no_outliers['isFraud']\n",
    "y"
   ]
  },
  {
   "cell_type": "code",
   "execution_count": 19,
   "id": "89759588",
   "metadata": {},
   "outputs": [],
   "source": [
    "# Split data into training and testing sets\n",
    "X_train, X_test, y_train, y_test = train_test_split(X, y, test_size=0.2, random_state=42)"
   ]
  },
  {
   "cell_type": "code",
   "execution_count": 21,
   "id": "b70458bf",
   "metadata": {},
   "outputs": [
    {
     "data": {
      "text/html": [
       "<style>#sk-container-id-1 {color: black;background-color: white;}#sk-container-id-1 pre{padding: 0;}#sk-container-id-1 div.sk-toggleable {background-color: white;}#sk-container-id-1 label.sk-toggleable__label {cursor: pointer;display: block;width: 100%;margin-bottom: 0;padding: 0.3em;box-sizing: border-box;text-align: center;}#sk-container-id-1 label.sk-toggleable__label-arrow:before {content: \"▸\";float: left;margin-right: 0.25em;color: #696969;}#sk-container-id-1 label.sk-toggleable__label-arrow:hover:before {color: black;}#sk-container-id-1 div.sk-estimator:hover label.sk-toggleable__label-arrow:before {color: black;}#sk-container-id-1 div.sk-toggleable__content {max-height: 0;max-width: 0;overflow: hidden;text-align: left;background-color: #f0f8ff;}#sk-container-id-1 div.sk-toggleable__content pre {margin: 0.2em;color: black;border-radius: 0.25em;background-color: #f0f8ff;}#sk-container-id-1 input.sk-toggleable__control:checked~div.sk-toggleable__content {max-height: 200px;max-width: 100%;overflow: auto;}#sk-container-id-1 input.sk-toggleable__control:checked~label.sk-toggleable__label-arrow:before {content: \"▾\";}#sk-container-id-1 div.sk-estimator input.sk-toggleable__control:checked~label.sk-toggleable__label {background-color: #d4ebff;}#sk-container-id-1 div.sk-label input.sk-toggleable__control:checked~label.sk-toggleable__label {background-color: #d4ebff;}#sk-container-id-1 input.sk-hidden--visually {border: 0;clip: rect(1px 1px 1px 1px);clip: rect(1px, 1px, 1px, 1px);height: 1px;margin: -1px;overflow: hidden;padding: 0;position: absolute;width: 1px;}#sk-container-id-1 div.sk-estimator {font-family: monospace;background-color: #f0f8ff;border: 1px dotted black;border-radius: 0.25em;box-sizing: border-box;margin-bottom: 0.5em;}#sk-container-id-1 div.sk-estimator:hover {background-color: #d4ebff;}#sk-container-id-1 div.sk-parallel-item::after {content: \"\";width: 100%;border-bottom: 1px solid gray;flex-grow: 1;}#sk-container-id-1 div.sk-label:hover label.sk-toggleable__label {background-color: #d4ebff;}#sk-container-id-1 div.sk-serial::before {content: \"\";position: absolute;border-left: 1px solid gray;box-sizing: border-box;top: 0;bottom: 0;left: 50%;z-index: 0;}#sk-container-id-1 div.sk-serial {display: flex;flex-direction: column;align-items: center;background-color: white;padding-right: 0.2em;padding-left: 0.2em;position: relative;}#sk-container-id-1 div.sk-item {position: relative;z-index: 1;}#sk-container-id-1 div.sk-parallel {display: flex;align-items: stretch;justify-content: center;background-color: white;position: relative;}#sk-container-id-1 div.sk-item::before, #sk-container-id-1 div.sk-parallel-item::before {content: \"\";position: absolute;border-left: 1px solid gray;box-sizing: border-box;top: 0;bottom: 0;left: 50%;z-index: -1;}#sk-container-id-1 div.sk-parallel-item {display: flex;flex-direction: column;z-index: 1;position: relative;background-color: white;}#sk-container-id-1 div.sk-parallel-item:first-child::after {align-self: flex-end;width: 50%;}#sk-container-id-1 div.sk-parallel-item:last-child::after {align-self: flex-start;width: 50%;}#sk-container-id-1 div.sk-parallel-item:only-child::after {width: 0;}#sk-container-id-1 div.sk-dashed-wrapped {border: 1px dashed gray;margin: 0 0.4em 0.5em 0.4em;box-sizing: border-box;padding-bottom: 0.4em;background-color: white;}#sk-container-id-1 div.sk-label label {font-family: monospace;font-weight: bold;display: inline-block;line-height: 1.2em;}#sk-container-id-1 div.sk-label-container {text-align: center;}#sk-container-id-1 div.sk-container {/* jupyter's `normalize.less` sets `[hidden] { display: none; }` but bootstrap.min.css set `[hidden] { display: none !important; }` so we also need the `!important` here to be able to override the default hidden behavior on the sphinx rendered scikit-learn.org. See: https://github.com/scikit-learn/scikit-learn/issues/21755 */display: inline-block !important;position: relative;}#sk-container-id-1 div.sk-text-repr-fallback {display: none;}</style><div id=\"sk-container-id-1\" class=\"sk-top-container\"><div class=\"sk-text-repr-fallback\"><pre>RandomForestClassifier(random_state=42)</pre><b>In a Jupyter environment, please rerun this cell to show the HTML representation or trust the notebook. <br />On GitHub, the HTML representation is unable to render, please try loading this page with nbviewer.org.</b></div><div class=\"sk-container\" hidden><div class=\"sk-item\"><div class=\"sk-estimator sk-toggleable\"><input class=\"sk-toggleable__control sk-hidden--visually\" id=\"sk-estimator-id-1\" type=\"checkbox\" checked><label for=\"sk-estimator-id-1\" class=\"sk-toggleable__label sk-toggleable__label-arrow\">RandomForestClassifier</label><div class=\"sk-toggleable__content\"><pre>RandomForestClassifier(random_state=42)</pre></div></div></div></div></div>"
      ],
      "text/plain": [
       "RandomForestClassifier(random_state=42)"
      ]
     },
     "execution_count": 21,
     "metadata": {},
     "output_type": "execute_result"
    }
   ],
   "source": [
    "# Model Training\n",
    "rf_model = RandomForestClassifier(n_estimators=100, random_state=42)\n",
    "rf_model.fit(X_train, y_train)"
   ]
  },
  {
   "cell_type": "code",
   "execution_count": 22,
   "id": "019c06d3",
   "metadata": {},
   "outputs": [
    {
     "name": "stdout",
     "output_type": "stream",
     "text": [
      "Accuracy: 0.9997\n"
     ]
    },
    {
     "data": {
      "text/plain": [
       "0.9997052830678145"
      ]
     },
     "execution_count": 22,
     "metadata": {},
     "output_type": "execute_result"
    }
   ],
   "source": [
    "# By looking at these evaluation metrics, We can assess the model's performance in different aspects:\n",
    "\n",
    "# Accuracy: Overall, how often the model correctly predicts fraud and non-fraud transactions.\n",
    "# Precision: The proportion of predicted fraud transactions that are actually fraud (true positive rate).\n",
    "# Recall: The proportion of actual fraud transactions that the model correctly identifies (sensitivity or true negative rate).\n",
    "# F1 Score: The harmonic mean of precision and recall, which balances between precision and recall.\n",
    "# ROC-AUC Score: The area under the receiver operating characteristic curve, which measures the model's ability to distinguish between fraud and non-fraud transactions.\n",
    "\n",
    "# Model Evaluation\n",
    "y_pred = rf_model.predict(X_test)\n",
    "\n",
    "# Accuracy\n",
    "accuracy = accuracy_score(y_test, y_pred)\n",
    "print(f\"Accuracy: {accuracy:.4f}\")\n",
    "accuracy"
   ]
  },
  {
   "cell_type": "code",
   "execution_count": 23,
   "id": "0101797a",
   "metadata": {},
   "outputs": [
    {
     "name": "stdout",
     "output_type": "stream",
     "text": [
      "Precision: 0.9693\n"
     ]
    },
    {
     "data": {
      "text/plain": [
       "0.9693446088794926"
      ]
     },
     "execution_count": 23,
     "metadata": {},
     "output_type": "execute_result"
    }
   ],
   "source": [
    "# Precision\n",
    "precision = precision_score(y_test, y_pred)\n",
    "print(f\"Precision: {precision:.4f}\")\n",
    "precision"
   ]
  },
  {
   "cell_type": "code",
   "execution_count": 24,
   "id": "11032670",
   "metadata": {},
   "outputs": [
    {
     "name": "stdout",
     "output_type": "stream",
     "text": [
      "Recall: 0.7354\n"
     ]
    },
    {
     "data": {
      "text/plain": [
       "0.7353648757016841"
      ]
     },
     "execution_count": 24,
     "metadata": {},
     "output_type": "execute_result"
    }
   ],
   "source": [
    "# Recall\n",
    "recall = recall_score(y_test, y_pred)\n",
    "print(f\"Recall: {recall:.4f}\")\n",
    "recall"
   ]
  },
  {
   "cell_type": "code",
   "execution_count": 25,
   "id": "a106edc4",
   "metadata": {},
   "outputs": [
    {
     "name": "stdout",
     "output_type": "stream",
     "text": [
      "F1 Score: 0.8363\n"
     ]
    },
    {
     "data": {
      "text/plain": [
       "0.8362973096215229"
      ]
     },
     "execution_count": 25,
     "metadata": {},
     "output_type": "execute_result"
    }
   ],
   "source": [
    "# F1 Score\n",
    "f1 = f1_score(y_test, y_pred)\n",
    "print(f\"F1 Score: {f1:.4f}\")\n",
    "f1"
   ]
  },
  {
   "cell_type": "code",
   "execution_count": 26,
   "id": "3c35303e",
   "metadata": {},
   "outputs": [
    {
     "name": "stdout",
     "output_type": "stream",
     "text": [
      "ROC-AUC Score: 0.9959\n"
     ]
    },
    {
     "data": {
      "text/plain": [
       "0.9958684282758343"
      ]
     },
     "execution_count": 26,
     "metadata": {},
     "output_type": "execute_result"
    }
   ],
   "source": [
    "# ROC-AUC Score\n",
    "roc_auc = roc_auc_score(y_test, rf_model.predict_proba(X_test)[:, 1])\n",
    "print(f\"ROC-AUC Score: {roc_auc:.4f}\")\n",
    "roc_auc"
   ]
  },
  {
   "cell_type": "code",
   "execution_count": 27,
   "id": "be0e5ab0",
   "metadata": {},
   "outputs": [
    {
     "name": "stdout",
     "output_type": "stream",
     "text": [
      "Confusion Matrix:\n",
      "[[1216842      29]\n",
      " [    330     917]]\n"
     ]
    },
    {
     "data": {
      "text/plain": [
       "array([[1216842,      29],\n",
       "       [    330,     917]])"
      ]
     },
     "execution_count": 27,
     "metadata": {},
     "output_type": "execute_result"
    }
   ],
   "source": [
    "# Confusion Matrix\n",
    "conf_matrix = confusion_matrix(y_test, y_pred)\n",
    "print(\"Confusion Matrix:\")\n",
    "print(conf_matrix)\n",
    "conf_matrix"
   ]
  },
  {
   "cell_type": "code",
   "execution_count": 28,
   "id": "15b8cac3",
   "metadata": {},
   "outputs": [],
   "source": [
    "# Feature Importance\n",
    "feature_importance = rf_model.feature_importances_\n",
    "sorted_indices = np.argsort(feature_importance)[::-1]\n",
    "sorted_features = X_train.columns[sorted_indices]"
   ]
  },
  {
   "cell_type": "code",
   "execution_count": 29,
   "id": "737f04b3",
   "metadata": {},
   "outputs": [
    {
     "data": {
      "text/plain": [
       "<Figure size 1000x600 with 0 Axes>"
      ]
     },
     "execution_count": 29,
     "metadata": {},
     "output_type": "execute_result"
    },
    {
     "data": {
      "text/plain": [
       "<Figure size 1000x600 with 0 Axes>"
      ]
     },
     "metadata": {},
     "output_type": "display_data"
    }
   ],
   "source": [
    "plt.figure(figsize=(10, 6))"
   ]
  },
  {
   "cell_type": "code",
   "execution_count": 30,
   "id": "478ce22b",
   "metadata": {},
   "outputs": [
    {
     "data": {
      "image/png": "[encoded data removed]",
      "text/plain": [
       "<Figure size 640x480 with 1 Axes>"
      ]
     },
     "metadata": {},
     "output_type": "display_data"
    }
   ],
   "source": [
    "# Feature importance is a measure of how much each feature contributes to the model's decision-making process. \n",
    "# It helps us understand which features are more influential in making predictions.\n",
    "plt.barh(sorted_features, feature_importance[sorted_indices])\n",
    "plt.title(\"Feature Importance\")\n",
    "plt.xlabel(\"Importance\")\n",
    "plt.ylabel(\"Features\")\n",
    "plt.tight_layout()\n",
    "plt.show()"
   ]
  },
  {
   "cell_type": "markdown",
   "id": "c60e8039",
   "metadata": {},
   "source": [
    "### Describe your fraud detection model in elaboration.\n",
    "- Data Collection and Preprocessing\n",
    "    - Transactional data is collected from various sources, such as credit card transactions, bank transfers, or online payments.\n",
    "    - The data is preprocessed to handle missing values, outliers, and format conversions. \n",
    "- Feature Engineering\n",
    "    - Features are extracted from the transactional data to represent each transaction.\n",
    "- Data Splitting\n",
    "    - The dataset is split into training and testing sets. The training set is used to train the model, and the testing set is used to evaluate its performance on unseen data.\n",
    "- Handling Imbalanced Data (if applicable)\n",
    "    - Fraudulent transactions are often rare compared to legitimate ones, leading to class imbalance in the data.\n",
    "    - Techniques like oversampling, undersampling, or using synthetic data can be applied to balance the classes and improve the model's performance.\n",
    "- Model Training\n",
    "    - Various machine learning algorithms can be used for fraud detection, such as RandomForest, Logistic Regression, Gradient Boosting, Neural Networks, or Anomaly Detection models.\n",
    "    - The model is trained on the training data using the features and the corresponding labels.\n",
    "- Model Evaluation\n",
    "    - The model's performance is evaluated on the testing set using metrics like accuracy, precision, recall, F1-score, ROC-AUC, and others.\n",
    "    - The evaluation helps in understanding how well the model generalizes to unseen data and its ability to distinguish between fraudulent and non-fraudulent transactions.\n",
    "    \n",
    "### How did you select variables to be included in the model?\n",
    "The variables to be included in the model were selected based on some initial data preprocessing and feature engineering steps. Here's how the variables were selected:\n",
    "\n",
    "- Data Preprocessing: The code drops two columns, 'nameOrig' and 'nameDest,' from the dataset using data.drop(['nameOrig', 'nameDest'], axis=1, inplace=True). These columns might not provide meaningful information for the model as they represent customer names, which are likely unique for each transaction.\n",
    "- Feature Engineering: \n",
    "    - The code performs one-hot encoding for the 'type' column using pd.get_dummies(data, columns=['type'], drop_first=True). This converts the categorical variable 'type' into binary dummy variables for each transaction type (CASH-IN, CASH-OUT, DEBIT, PAYMENT, and TRANSFER).\n",
    "    - A new feature 'balance_change' is created as the difference between the 'newbalanceOrig' and 'oldbalanceOrg' columns using data['balance_change'] = data['newbalanceOrig'] - data['oldbalanceOrg'].\n",
    "    \n",
    "After these preprocessing and feature engineering steps, the dataset is ready for model training. The features used for the model are the columns in the data_no_outliers DataFrame, which include:\n",
    "\n",
    "- All the one-hot encoded 'type' columns (binary dummy variables for transaction types).\n",
    "- The 'step' column representing the time step of the transaction.\n",
    "- The 'amount' column representing the amount of the transaction.\n",
    "- The 'oldbalanceOrg' and 'newbalanceOrig' columns representing the initial and new balances of the customer initiating the transaction.\n",
    "- The 'oldbalanceDest' and 'newbalanceDest' columns representing the initial and new balances of the recipient of the transaction.\n",
    "- The 'balance_change' column representing the difference between the old and new balances of the customer initiating the transaction.\n",
    "- These selected features are used to train the RandomForestClassifier for fraud detection.\n",
    "\n",
    "### What are the key factors that predict fraudulent customer?\n",
    "Key factors that can be predictive of fraudulent customers:\n",
    "\n",
    "- Abnormal Transaction Frequency: Fraudulent customers may engage in an unusually high number of transactions in a short period or conduct transactions at odd hours.\n",
    "- Abnormal Transaction Amounts: Fraudulent transactions often involve unusually large or small amounts compared to typical transactions.\n",
    "- New Accounts: Fraudulent customers may create new accounts to carry out fraudulent activities rather than using existing ones.\n",
    "- Unusual Transaction Patterns: Fraudulent customers may exhibit patterns that deviate from normal behavior, such as transferring funds to multiple accounts in quick succession.\n",
    "- Historical Fraud Patterns: Identifying recurring fraud patterns from historical data can be used to predict future fraudulent activities.\n",
    "\n",
    "### Do these factors make sense? If yes, How? If not, How not?\n",
    "Yes! Each of these factors provides valuable insights into suspicious behavior that can be indicative of fraudulent activities.\n",
    "- Abnormal Transaction Frequency: Fraudsters often conduct a high volume of transactions in a short period to maximize their gains and avoid detection. Unusually frequent transactions can be a red flag for potential fraud.\n",
    "- Abnormal Transaction Amounts: Fraudulent transactions tend to deviate from the typical transaction amounts seen in legitimate behavior. Large amounts may indicate attempts to steal significant funds, while small amounts could be used for testing vulnerabilities.\n",
    "- New Accounts: Creating new accounts is a common tactic for fraudsters to avoid detection and disguise their activities. Detecting a high number of new accounts can help identify potentially fraudulent behavior.\n",
    "- Unusual Transaction Patterns: Fraudulent customers may exhibit patterns that differ from normal, legitimate behavior. For example, transferring funds to multiple unrelated accounts in quick succession may indicate attempts to launder money or distribute funds to avoid detection.\n",
    "- Historical Fraud Patterns: Analyzing historical data for recurring fraud patterns can help predict and prevent future fraudulent activities. Recognizing similar patterns can assist in identifying suspicious behavior before it escalates.\n",
    "\n",
    "### Assuming these actions have been implemented, how would you determine if they work?\n",
    "To determine if the implemented fraud detection models work effectively, we need to evaluate their performance using appropriate evaluation metrics and validation techniques. Here are the steps to assess the model's performance:\n",
    "\n",
    "- Holdout Validation:\n",
    "Split the dataset into training and testing sets using techniques like train-test split or k-fold cross-validation. The training set is used to train the model, and the testing set is used to evaluate its performance on unseen data.\n",
    "- Evaluation Metrics:\n",
    "Calculate a set of evaluation metrics to assess the model's performance. Common metrics for binary classification (fraud vs. non-fraud)\n",
    "- Confusion Matrix:\n",
    "Analyze the confusion matrix to understand the number of true positives, true negatives, false positives, and false negatives. This helps in gaining insights into the model's performance in different scenarios.\n",
    "- Feature Importance:\n",
    "Investigate feature importance to identify the key factors influencing the model's predictions. This helps understand which features contribute most to identifying fraudulent transactions.\n",
    "\n",
    "### What kind of prevention should be adopted while company update its infrastructure?\n",
    "\n",
    "When a financial company updates its infrastructure for fraud detection, it should consider implementing a combination of technical and procedural measures to enhance its prevention capabilities. Here are some key prevention strategies:\n",
    "\n",
    "- Advanced Authentication and Authorization:\n",
    "    - Implement multi-factor authentication (MFA) for customer logins to ensure that only authorized users can access accounts and perform transactions.\n",
    "    - Utilize strong password policies and enforce regular password updates.\n",
    "- Real-time Transaction Monitoring:\n",
    "    - Deploy real-time transaction monitoring systems to detect and flag potentially fraudulent transactions as they occur.\n",
    "- Anomaly Detection:\n",
    "    - Implement anomaly detection algorithms to identify unusual behaviors or patterns that deviate significantly from normal customer behavior.\n",
    "- Data Encryption and Secure Communication:\n",
    "    - Encrypt sensitive data, including customer information, account details, and transaction data, to prevent unauthorized access in case of data breaches.\n",
    " "
   ]
  },
  {
   "cell_type": "code",
   "execution_count": null,
   "id": "9ed97c58",
   "metadata": {},
   "outputs": [],
   "source": []
  },
  {
   "cell_type": "code",
   "execution_count": null,
   "id": "1ab337a8",
   "metadata": {},
   "outputs": [],
   "source": []
  }
 ],
 "metadata": {
  "kernelspec": {
   "display_name": "Python 3 (ipykernel)",
   "language": "python",
   "name": "python3"
  },
  "language_info": {
   "codemirror_mode": {
    "name": "ipython",
    "version": 3
   },
   "file_extension": ".py",
   "mimetype": "text/x-python",
   "name": "python",
   "nbconvert_exporter": "python",
   "pygments_lexer": "ipython3",
   "version": "3.11.3"
  }
 },
 "nbformat": 4,
 "nbformat_minor": 5
}
