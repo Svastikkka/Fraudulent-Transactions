{
 "cells": [
  {
   "cell_type": "code",
   "execution_count": 3,
   "metadata": {},
   "outputs": [
    {
     "name": "stderr",
     "output_type": "stream",
     "text": [
      "Fontconfig warning: ignoring UTF-8: not a valid region tag\n",
      "Matplotlib is building the font cache; this may take a moment.\n"
     ]
    },
    {
     "name": "stdout",
     "output_type": "stream",
     "text": [
      "/Users/manshusharma/Documents/vscode/Fraudulent Transactions/Fraud.csv\n",
      "/Users/manshusharma/Documents/vscode/Fraudulent Transactions/script.ipynb\n",
      "/Users/manshusharma/Documents/vscode/Fraudulent Transactions/ReadME.md\n",
      "/Users/manshusharma/Documents/vscode/Fraudulent Transactions/.ipynb_checkpoints/script-checkpoint.ipynb\n",
      "/Users/manshusharma/Documents/vscode/Fraudulent Transactions/.git/config\n",
      "/Users/manshusharma/Documents/vscode/Fraudulent Transactions/.git/HEAD\n",
      "/Users/manshusharma/Documents/vscode/Fraudulent Transactions/.git/description\n",
      "/Users/manshusharma/Documents/vscode/Fraudulent Transactions/.git/index\n",
      "/Users/manshusharma/Documents/vscode/Fraudulent Transactions/.git/COMMIT_EDITMSG\n",
      "/Users/manshusharma/Documents/vscode/Fraudulent Transactions/.git/objects/69/38a5e4a211a218a5d45894eac8e86ac79b0a72\n",
      "/Users/manshusharma/Documents/vscode/Fraudulent Transactions/.git/objects/c7/1a590f6c1d1d97fafd5128e7a6f5ceebe2d8b0\n",
      "/Users/manshusharma/Documents/vscode/Fraudulent Transactions/.git/objects/b1/7db9c6503177742e92aa6d96444f4fd33c2838\n",
      "/Users/manshusharma/Documents/vscode/Fraudulent Transactions/.git/objects/af/d204723ad54c3283b6c7b8e5c16f1613759b44\n",
      "/Users/manshusharma/Documents/vscode/Fraudulent Transactions/.git/info/exclude\n",
      "/Users/manshusharma/Documents/vscode/Fraudulent Transactions/.git/logs/HEAD\n",
      "/Users/manshusharma/Documents/vscode/Fraudulent Transactions/.git/logs/refs/heads/main\n",
      "/Users/manshusharma/Documents/vscode/Fraudulent Transactions/.git/logs/refs/remotes/origin/main\n",
      "/Users/manshusharma/Documents/vscode/Fraudulent Transactions/.git/hooks/commit-msg.sample\n",
      "/Users/manshusharma/Documents/vscode/Fraudulent Transactions/.git/hooks/pre-rebase.sample\n",
      "/Users/manshusharma/Documents/vscode/Fraudulent Transactions/.git/hooks/pre-commit.sample\n",
      "/Users/manshusharma/Documents/vscode/Fraudulent Transactions/.git/hooks/applypatch-msg.sample\n",
      "/Users/manshusharma/Documents/vscode/Fraudulent Transactions/.git/hooks/fsmonitor-watchman.sample\n",
      "/Users/manshusharma/Documents/vscode/Fraudulent Transactions/.git/hooks/pre-receive.sample\n",
      "/Users/manshusharma/Documents/vscode/Fraudulent Transactions/.git/hooks/prepare-commit-msg.sample\n",
      "/Users/manshusharma/Documents/vscode/Fraudulent Transactions/.git/hooks/post-update.sample\n",
      "/Users/manshusharma/Documents/vscode/Fraudulent Transactions/.git/hooks/pre-merge-commit.sample\n",
      "/Users/manshusharma/Documents/vscode/Fraudulent Transactions/.git/hooks/pre-applypatch.sample\n",
      "/Users/manshusharma/Documents/vscode/Fraudulent Transactions/.git/hooks/pre-push.sample\n",
      "/Users/manshusharma/Documents/vscode/Fraudulent Transactions/.git/hooks/update.sample\n",
      "/Users/manshusharma/Documents/vscode/Fraudulent Transactions/.git/hooks/push-to-checkout.sample\n",
      "/Users/manshusharma/Documents/vscode/Fraudulent Transactions/.git/refs/heads/main\n",
      "/Users/manshusharma/Documents/vscode/Fraudulent Transactions/.git/refs/remotes/origin/main\n"
     ]
    }
   ],
   "source": [
    "import numpy as np\n",
    "import pandas as pd\n",
    "import matplotlib.pyplot as plt\n",
    "\n",
    "import os\n",
    "for dirname, _, filenames in os.walk('/Users/manshusharma/Documents/vscode/Fraudulent Transactions'):\n",
    "    for filename in filenames:\n",
    "        print(os.path.join(dirname, filename))"
   ]
  },
  {
   "cell_type": "code",
   "execution_count": 6,
   "metadata": {},
   "outputs": [],
   "source": [
    "df = pd.read_csv(\"/Users/manshusharma/Documents/vscode/Fraudulent Transactions/Fraud.csv\")"
   ]
  },
  {
   "cell_type": "code",
   "execution_count": 7,
   "metadata": {},
   "outputs": [
    {
     "data": {
      "text/plain": [
       "(6362620, 11)"
      ]
     },
     "execution_count": 7,
     "metadata": {},
     "output_type": "execute_result"
    }
   ],
   "source": [
    "df.shape"
   ]
  },
  {
   "cell_type": "code",
   "execution_count": 8,
   "metadata": {},
   "outputs": [],
   "source": [
    "#create a date column for time series split example\n",
    "from random import randrange\n",
    "import datetime as dt\n",
    "\n",
    "def random_date(start, end):\n",
    "    delta = end - start\n",
    "    int_delta = (delta.days * 24 * 60 * 60) + delta.seconds\n",
    "    random_second = randrange(int_delta)\n",
    "    return start + dt.timedelta(seconds=random_second)\n",
    "\n",
    "df['date'] = [random_date(dt.date(2021,1,1),dt.date(2022,11,1)) for x in range(len(df))]\n",
    "\n",
    "\n",
    "#used this code to generate example: https://www.folkstalk.com/2022/10/python-random-date-between-range-with-code-examples.html"
   ]
  },
  {
   "cell_type": "code",
   "execution_count": 9,
   "metadata": {},
   "outputs": [
    {
     "data": {
      "text/plain": [
       "0          2022-03-11\n",
       "1          2021-12-10\n",
       "2          2021-07-14\n",
       "3          2022-10-24\n",
       "4          2021-06-03\n",
       "              ...    \n",
       "6362615    2021-03-09\n",
       "6362616    2022-09-11\n",
       "6362617    2021-07-18\n",
       "6362618    2022-04-28\n",
       "6362619    2021-03-24\n",
       "Name: date, Length: 6362620, dtype: object"
      ]
     },
     "execution_count": 9,
     "metadata": {},
     "output_type": "execute_result"
    }
   ],
   "source": [
    "df['date']"
   ]
  },
  {
   "cell_type": "code",
   "execution_count": 11,
   "metadata": {},
   "outputs": [
    {
     "name": "stdout",
     "output_type": "stream",
     "text": [
      "0.6725189429547436\n"
     ]
    }
   ],
   "source": [
    "from sklearn.model_selection import train_test_split\n",
    "from sklearn.metrics import average_precision_score\n",
    "from sklearn.ensemble import RandomForestClassifier\n",
    "\n",
    "features = [\n",
    "    'amount',\n",
    "    'oldbalanceOrg',\n",
    "    'newbalanceOrig',\n",
    "    'oldbalanceDest',\n",
    "    'newbalanceDest'\n",
    "]\n",
    "\n",
    "X = df[features]\n",
    "y = df['isFraud']\n",
    "\n",
    "X_train, X_test, y_train, y_test = train_test_split(X, y, test_size=0.33, random_state=42)\n",
    "\n",
    "model = RandomForestClassifier()\n",
    "\n",
    "model.fit(X_train, y_train)\n",
    "y_preds = model.predict(X_test)\n",
    "\n",
    "print(average_precision_score(y_preds, y_test))"
   ]
  },
  {
   "cell_type": "code",
   "execution_count": 12,
   "metadata": {},
   "outputs": [],
   "source": [
    "from sklearn.model_selection import KFold\n",
    "from sklearn.metrics import average_precision_score\n",
    "\n",
    "kf = KFold(n_splits=2, shuffle = True, random_state = 42)\n",
    "kf.get_n_splits(X)\n",
    "\n",
    "folds = {}\n",
    "scores = []\n",
    "\n",
    "for train, test in kf.split(X):\n",
    "    # Fold\n",
    "    fold_number = 1\n",
    "    \n",
    "    # Store fold number\n",
    "    folds[fold_number] = (df.iloc[train], df.iloc[test])\n",
    "    \n",
    "    # Create training and testing sets\n",
    "    X_train = df.iloc[train][features]\n",
    "    y_train = df.iloc[train]['isFraud']\n",
    "    \n",
    "    X_test = df.iloc[test][features]\n",
    "    y_test = df.iloc[test]['isFraud']\n",
    "    \n",
    "    model = RandomForestClassifier()\n",
    "    model.fit(X_train, y_train)\n",
    "    y_preds = model.predict(X_test)\n",
    "    \n",
    "    pr_auc = average_precision_score(y_preds, y_test)\n",
    "    scores.append(pr_auc)\n",
    "    \n",
    "    fold_number += 1\n"
   ]
  },
  {
   "cell_type": "code",
   "execution_count": 14,
   "metadata": {},
   "outputs": [
    {
     "data": {
      "text/plain": [
       "0.6641210189394728"
      ]
     },
     "execution_count": 14,
     "metadata": {},
     "output_type": "execute_result"
    }
   ],
   "source": [
    "np.mean(scores)"
   ]
  },
  {
   "cell_type": "code",
   "execution_count": 15,
   "metadata": {},
   "outputs": [
    {
     "name": "stdout",
     "output_type": "stream",
     "text": [
      "0.9995663736008122\n"
     ]
    }
   ],
   "source": [
    "from sklearn.model_selection import cross_val_score\n",
    "from sklearn.ensemble import RandomForestClassifier\n",
    "\n",
    "model = RandomForestClassifier()\n",
    "\n",
    "scores = cross_val_score(model, X, y, scoring='accuracy', cv=kf, n_jobs=-1)\n",
    "\n",
    "print(np.mean(scores))"
   ]
  },
  {
   "cell_type": "code",
   "execution_count": 16,
   "metadata": {},
   "outputs": [],
   "source": [
    "from sklearn.model_selection import LeaveOneOut\n",
    "from sklearn.metrics import accuracy_score\n",
    "from sklearn.utils import shuffle\n",
    "\n",
    "df = shuffle(df)\n",
    "X = df[features]\n",
    "y = df['isFraud']\n",
    "\n",
    "loo = LeaveOneOut()\n",
    "loo.get_n_splits(X)\n",
    "\n",
    "\n",
    "all_preds = []\n",
    "\n",
    "for train_index, test_index in loo.split(X[8000:8300]):\n",
    "#     print(\"TRAIN:\", train_index, \"TEST:\", test_index)\n",
    "    X_train, X_test = X.iloc[train_index], X.iloc[test_index]\n",
    "    y_train, y_test = y.iloc[train_index], y.iloc[test_index]\n",
    "    model = RandomForestClassifier()\n",
    "\n",
    "    model.fit(X_train, y_train)\n",
    "    y_preds = model.predict(X_test)\n",
    "\n",
    "    correct = y_preds[0] == y_test.values[0]\n",
    "    \n",
    "    all_preds.append(correct)\n",
    "    "
   ]
  },
  {
   "cell_type": "code",
   "execution_count": 17,
   "metadata": {},
   "outputs": [
    {
     "data": {
      "text/plain": [
       "1.0"
      ]
     },
     "execution_count": 17,
     "metadata": {},
     "output_type": "execute_result"
    }
   ],
   "source": [
    "np.mean(all_preds)"
   ]
  },
  {
   "cell_type": "code",
   "execution_count": 18,
   "metadata": {},
   "outputs": [
    {
     "name": "stdout",
     "output_type": "stream",
     "text": [
      "0.6760851656783324\n"
     ]
    }
   ],
   "source": [
    "DATE = dt.date(2022,1,1)\n",
    "\n",
    "train_df = df[df['date'] < DATE].copy()\n",
    "test_df = df[df['date'] >= DATE].copy()\n",
    "\n",
    "X_train = train_df[features]\n",
    "X_test = test_df[features]\n",
    "\n",
    "y_train = train_df['isFraud']\n",
    "y_test = test_df['isFraud']\n",
    "\n",
    "\n",
    "model = RandomForestClassifier()\n",
    "\n",
    "model.fit(X_train, y_train)\n",
    "y_preds = model.predict(X_test)\n",
    "\n",
    "print(average_precision_score(y_preds, y_test))"
   ]
  },
  {
   "cell_type": "code",
   "execution_count": 19,
   "metadata": {},
   "outputs": [
    {
     "name": "stdout",
     "output_type": "stream",
     "text": [
      "[0.5017047251274506, 0.5103359116671605, 0.5313079628934676, 0.5330325381533789, 0.5005675505563262]\n"
     ]
    }
   ],
   "source": [
    "## Jan 1 to Jan 30 2022 - Training Set, Feb 1 to Feb 30 - Testing Set\n",
    "## Jan 2 to Feb 2 - Training, Feb 2 to Feb 30 - Testing Set \n",
    "## Jan 3 to Feb 3 - Training, Feb 3 to Feb 30 - Testing Set \n",
    "\n",
    "## Window of 30 days -> Sliding it across time \n",
    "\n",
    "from sklearn.model_selection import TimeSeriesSplit\n",
    "\n",
    "tscv = TimeSeriesSplit(max_train_size = 50000,\n",
    "                       n_splits = 5)\n",
    "\n",
    "all_scores = []\n",
    "\n",
    "for train_index, test_index in tscv.split(X):\n",
    "#     print(\"TRAIN:\", train_index, \"TEST:\", test_index)\n",
    "    X_train, X_test = X.iloc[train_index], X.iloc[test_index]\n",
    "    y_train, y_test = y.iloc[train_index], y.iloc[test_index]\n",
    "    \n",
    "    model = RandomForestClassifier()\n",
    "\n",
    "    model.fit(X_train, y_train)\n",
    "    y_preds = model.predict(X_test)\n",
    "\n",
    "    pr_auc = average_precision_score(y_preds, y_test)\n",
    "    \n",
    "    all_scores.append(pr_auc)\n",
    "    \n",
    "    \n",
    "print(all_scores)"
   ]
  },
  {
   "cell_type": "code",
   "execution_count": 20,
   "metadata": {},
   "outputs": [
    {
     "name": "stdout",
     "output_type": "stream",
     "text": [
      "[0.6190046759777776, 0.6534806450713473, 0.6697671120322641, 0.6777104635312281, 0.6906508665865214]\n"
     ]
    }
   ],
   "source": [
    "## Jan 1 to Jan 30 2022 - Training Set, Feb 1 to Feb 30 - Testing Set - 30 days of training data\n",
    "## Jan 1 to Feb 2 - Training, Feb 2 to Feb 30 - Testing Set - 31 days of training data\n",
    "## Jan 1 to Feb 3 - Training, Feb 3 to Feb 30 - Testing Set - 31 days of training data\n",
    "## Training data increases over time\n",
    "\n",
    "\n",
    "from sklearn.model_selection import TimeSeriesSplit\n",
    "\n",
    "tscv = TimeSeriesSplit(#max_train_size = 50000, #Remove this line for expanding window\n",
    "                       n_splits = 5)\n",
    "\n",
    "all_scores = []\n",
    "\n",
    "for train_index, test_index in tscv.split(X):\n",
    "#     print(\"TRAIN:\", train_index, \"TEST:\", test_index)\n",
    "    X_train, X_test = X.iloc[train_index], X.iloc[test_index]\n",
    "    y_train, y_test = y.iloc[train_index], y.iloc[test_index]\n",
    "    \n",
    "    model = RandomForestClassifier()\n",
    "\n",
    "    model.fit(X_train, y_train)\n",
    "    y_preds = model.predict(X_test)\n",
    "\n",
    "    pr_auc = average_precision_score(y_preds, y_test)\n",
    "    \n",
    "    all_scores.append(pr_auc)\n",
    "    \n",
    "    \n",
    "print(all_scores)"
   ]
  },
  {
   "cell_type": "code",
   "execution_count": null,
   "metadata": {},
   "outputs": [],
   "source": []
  }
 ],
 "metadata": {
  "kernelspec": {
   "display_name": "Python 3 (ipykernel)",
   "language": "python",
   "name": "python3"
  },
  "language_info": {
   "codemirror_mode": {
    "name": "ipython",
    "version": 3
   },
   "file_extension": ".py",
   "mimetype": "text/x-python",
   "name": "python",
   "nbconvert_exporter": "python",
   "pygments_lexer": "ipython3",
   "version": "3.11.1"
  }
 },
 "nbformat": 4,
 "nbformat_minor": 2
}
